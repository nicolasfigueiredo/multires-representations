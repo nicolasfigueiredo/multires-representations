{
 "cells": [
  {
   "cell_type": "code",
   "execution_count": null,
   "metadata": {},
   "outputs": [],
   "source": [
    "import numpy as np\n",
    "import librosa as lb\n",
    "import matplotlib.pyplot as plt\n",
    "from math import ceil\n",
    "from scipy.io import loadmat"
   ]
  },
  {
   "cell_type": "code",
   "execution_count": null,
   "metadata": {},
   "outputs": [],
   "source": [
    "ref = loadmat('tfr_light.mat')\n",
    "def diff(x, y):\n",
    "    return np.linalg.norm(x.astype(y.dtype) - y)"
   ]
  },
  {
   "cell_type": "code",
   "execution_count": null,
   "metadata": {},
   "outputs": [],
   "source": [
    "sr = 22050\n",
    "hop_length = 128\n",
    "win_lengths = [512, 1024, 2048]\n",
    "n_fft = 2048\n",
    "window = lambda n: np.hanning(n+2)[1:-1]\n",
    "center = False"
   ]
  },
  {
   "cell_type": "code",
   "execution_count": null,
   "metadata": {},
   "outputs": [],
   "source": []
  },
  {
   "cell_type": "code",
   "execution_count": null,
   "metadata": {},
   "outputs": [],
   "source": [
    "signal_name = './Dataset/audio_exp_synth/AClassicEducation_NightOwl_STEM_08.RESYN.wav'\n",
    "x , sr_orig = lb.load(signal_name, sr=None)\n",
    "file_duration = len(x)/sr_orig\n",
    "print(sr_orig, file_duration)"
   ]
  },
  {
   "cell_type": "code",
   "execution_count": null,
   "metadata": {},
   "outputs": [],
   "source": [
    "diff(x, ref['x'].squeeze())"
   ]
  },
  {
   "cell_type": "code",
   "execution_count": null,
   "metadata": {},
   "outputs": [],
   "source": []
  },
  {
   "cell_type": "code",
   "execution_count": null,
   "metadata": {},
   "outputs": [],
   "source": [
    "from noname import spectrogram_tensor_prep"
   ]
  },
  {
   "cell_type": "code",
   "execution_count": null,
   "metadata": {},
   "outputs": [],
   "source": []
  },
  {
   "cell_type": "code",
   "execution_count": null,
   "metadata": {},
   "outputs": [],
   "source": [
    "%%time\n",
    "spectrograms_tensor = spectrogram_tensor_prep(x, sr=sr, win_lengths=win_lengths,n_fft=n_fft, hop_length=hop_length, window=window, center=False)"
   ]
  },
  {
   "cell_type": "code",
   "execution_count": null,
   "metadata": {},
   "outputs": [],
   "source": [
    "diff(spectrograms_tensor, ref['spectrograms_tensor'])"
   ]
  },
  {
   "cell_type": "code",
   "execution_count": null,
   "metadata": {},
   "outputs": [],
   "source": [
    "del(spectrograms_tensor)"
   ]
  },
  {
   "cell_type": "code",
   "execution_count": null,
   "metadata": {},
   "outputs": [],
   "source": [
    "from noname import swgm_comb"
   ]
  },
  {
   "cell_type": "code",
   "execution_count": null,
   "metadata": {},
   "outputs": [],
   "source": [
    "%%time\n",
    "#SWGM\n",
    "TFR_SWGM = swgm_comb(ref['spectrograms_tensor'], 0.5)"
   ]
  },
  {
   "cell_type": "code",
   "execution_count": null,
   "metadata": {},
   "outputs": [],
   "source": [
    "diff(TFR_SWGM, ref['TFR_SWGM'])"
   ]
  },
  {
   "cell_type": "code",
   "execution_count": null,
   "metadata": {},
   "outputs": [],
   "source": [
    "del(TFR_SWGM)"
   ]
  },
  {
   "cell_type": "code",
   "execution_count": null,
   "metadata": {},
   "outputs": [],
   "source": []
  },
  {
   "cell_type": "code",
   "execution_count": null,
   "metadata": {},
   "outputs": [],
   "source": [
    "# SLS\n",
    "zeta = 70 # controls the sparsity weighting process (zeta >= 200 for max(LocalSparsity))\n",
    "eta = 1 # controls the energy weighting process\n",
    "\n",
    "time_span = 0.03 # time span of the 2D window in seconds\n",
    "n_cols = ceil(sr*time_span/hop_length)\n",
    "size_w_S = [21, n_cols]\n",
    "size_w_E = [9,  2*n_cols]\n",
    "\n"
   ]
  },
  {
   "cell_type": "code",
   "execution_count": null,
   "metadata": {},
   "outputs": [],
   "source": [
    "from noname import spectrogram_local_sparsity"
   ]
  },
  {
   "cell_type": "code",
   "execution_count": null,
   "metadata": {},
   "outputs": [],
   "source": [
    "%%time\n",
    "TFR_SLS = spectrogram_local_sparsity(ref['spectrograms_tensor'], size_w_S, size_w_E, zeta, eta)"
   ]
  },
  {
   "cell_type": "code",
   "execution_count": null,
   "metadata": {},
   "outputs": [],
   "source": [
    "diff(TFR_SLS, ref['TFR_SLS'])"
   ]
  },
  {
   "cell_type": "code",
   "execution_count": null,
   "metadata": {},
   "outputs": [],
   "source": [
    "del(TFR_SLS)"
   ]
  },
  {
   "cell_type": "code",
   "execution_count": null,
   "metadata": {},
   "outputs": [],
   "source": []
  },
  {
   "cell_type": "code",
   "execution_count": null,
   "metadata": {},
   "outputs": [],
   "source": [
    "#LT\n",
    "eta = 8 # controls the energy smearing weighting process"
   ]
  },
  {
   "cell_type": "code",
   "execution_count": null,
   "metadata": {},
   "outputs": [],
   "source": [
    "TFR_LT = spectrogram_comb_Lukin_Todd(spectrograms_tensor, size_w_S, eta);"
   ]
  },
  {
   "cell_type": "code",
   "execution_count": null,
   "metadata": {},
   "outputs": [],
   "source": [
    "#FHLS\n",
    "eta = 20 # controls the energy weighting process\n",
    "n_rows = ceil(3*n_fft/win_lengths[0])\n",
    "size_W_m_k = [n_rows, n_cols]"
   ]
  },
  {
   "cell_type": "code",
   "execution_count": null,
   "metadata": {},
   "outputs": [],
   "source": [
    "from noname import spectrogram_comb_FastHoyerLocalSparsity"
   ]
  },
  {
   "cell_type": "code",
   "execution_count": null,
   "metadata": {},
   "outputs": [],
   "source": [
    "%%time\n",
    "TFR_FHLS = spectrogram_comb_FastHoyerLocalSparsity(ref['spectrograms_tensor'], size_W_m_k, eta)"
   ]
  },
  {
   "cell_type": "code",
   "execution_count": null,
   "metadata": {},
   "outputs": [],
   "source": [
    "diff(TFR_FHLS, ref['TFR_FHLS'])"
   ]
  },
  {
   "cell_type": "code",
   "execution_count": null,
   "metadata": {},
   "outputs": [],
   "source": [
    "del(TFR_FHLS)"
   ]
  },
  {
   "cell_type": "code",
   "execution_count": null,
   "metadata": {},
   "outputs": [],
   "source": []
  },
  {
   "cell_type": "code",
   "execution_count": null,
   "metadata": {},
   "outputs": [],
   "source": []
  },
  {
   "cell_type": "code",
   "execution_count": null,
   "metadata": {},
   "outputs": [],
   "source": [
    "#MRFCI\n",
    "# Number of alphas (I, in the paper)\n",
    "n_alphas = 7 # Number of alphas used for STFChTs (only alphas >= 0)\n",
    "\n",
    "# Synthesis TFR - - - - - - - - - - - - - - - - - - -\n",
    "asym_flags = [0, 0, 0] # Indicate which Nf will be used to compute Fan-chirp instances\n",
    "FChT_flags = [0, 1, 1] # Indicate which Nf will be used to compute Fan-chirp instances\n",
    "\n",
    "# Structure tensor - - - - - - - - -\n",
    "R = 60 # range in dB for the ST\n",
    "\n",
    "# G parameters\n",
    "sigma_t = win_lengths[-1]/(3*sr) # in s\n",
    "sigma_f = 100 # in Hz\n",
    "\n",
    "# C_limits defines the points of reference for the linear combination procedure\n",
    "\n",
    "# C_limits = 0 : 1/(length(Nf)-1) : 1; % Points of reference for the linear combination procedure\n",
    "C_limits = np.array([[0, .25, .75, 1,], [1, 2, 2, 3]])\n",
    "\n",
    "Nf_structure_tensor = win_lengths[0] # To compute the structure tensor"
   ]
  },
  {
   "cell_type": "code",
   "execution_count": null,
   "metadata": {},
   "outputs": [],
   "source": [
    "from noname import mrfci"
   ]
  },
  {
   "cell_type": "code",
   "execution_count": null,
   "metadata": {},
   "outputs": [],
   "source": [
    "%%time\n",
    "TFR_MRFCI, STFT_tensor = mrfci(x, sr, win_lengths,FChT_flags, asym_flags, Nf_structure_tensor, hop_length, n_alphas, C_limits, R,sigma_t, sigma_f, center=False, interpolate=False, window=window, pad_mode='reflect')"
   ]
  },
  {
   "cell_type": "code",
   "execution_count": null,
   "metadata": {},
   "outputs": [],
   "source": [
    "diff(TFR_MRFCI, ref['TFR_MRFCI']), diff(STFT_tensor, ref['spectrograms_tensor'])"
   ]
  },
  {
   "cell_type": "code",
   "execution_count": null,
   "metadata": {},
   "outputs": [],
   "source": []
  },
  {
   "cell_type": "code",
   "execution_count": null,
   "metadata": {},
   "outputs": [],
   "source": []
  },
  {
   "cell_type": "code",
   "execution_count": null,
   "metadata": {},
   "outputs": [],
   "source": [
    "# MRFCI 2\n",
    "\n",
    "C_limits = np.array([[0, .2, .4, 1], [1, 2, 2, 3]])"
   ]
  },
  {
   "cell_type": "code",
   "execution_count": null,
   "metadata": {},
   "outputs": [],
   "source": [
    "TFR_MRFCI, STFT_tensor = mrfci(x, sr, win_lengths,FChT_flags, asym_flags, Nf_structure_tensor, hop_length, n_alphas, C_limits, R,sigma_t, sigma_f, center=False, interpolate=False, window=window, pad_mode='reflect'):"
   ]
  },
  {
   "cell_type": "code",
   "execution_count": null,
   "metadata": {},
   "outputs": [],
   "source": []
  }
 ],
 "metadata": {
  "kernelspec": {
   "display_name": "Python 3",
   "language": "python",
   "name": "python3"
  },
  "language_info": {
   "codemirror_mode": {
    "name": "ipython",
    "version": 3
   },
   "file_extension": ".py",
   "mimetype": "text/x-python",
   "name": "python",
   "nbconvert_exporter": "python",
   "pygments_lexer": "ipython3",
   "version": "3.7.9"
  }
 },
 "nbformat": 4,
 "nbformat_minor": 4
}
